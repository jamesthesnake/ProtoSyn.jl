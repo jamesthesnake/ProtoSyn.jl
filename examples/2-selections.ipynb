{
 "metadata": {
  "language_info": {
   "codemirror_mode": {
    "name": "ipython",
    "version": 3
   },
   "file_extension": ".py",
   "mimetype": "text/x-python",
   "name": "python",
   "nbconvert_exporter": "python",
   "pygments_lexer": "ipython3",
   "version": 3
  },
  "orig_nbformat": 4,
  "kernelspec": {
   "name": "julia-1.6",
   "display_name": "Julia 1.6.1",
   "language": "julia"
  }
 },
 "nbformat": 4,
 "nbformat_minor": 2,
 "cells": [
  {
   "source": [
    "### Welcome to the ProtoSyn.jl examples\n",
    "\n",
    "# 2 - Selections\n",
    "\n",
    "ProtoSyn comes equipped with a powerful selecting syntax, useful for highlighting and specifying targets for the several manipulation tools of ProtoSyn. In this example, we will take a closer look at the different type of selections and how to apply them. In order to have a canvas for this exploration, the 2A3D peptidic structure will be used."
   ],
   "cell_type": "markdown",
   "metadata": {}
  },
  {
   "cell_type": "code",
   "execution_count": 1,
   "metadata": {},
   "outputs": [],
   "source": [
    "using ProtoSyn"
   ]
  },
  {
   "cell_type": "code",
   "execution_count": 2,
   "metadata": {},
   "outputs": [
    {
     "output_type": "stream",
     "name": "stderr",
     "text": [
      "┌ Info: Consider using Peptides.load when dealing with peptide chains.\n└ @ ProtoSyn /home/jpereira/project_c/ProtoSyn.jl/src/Core/Methods/io.jl:46\n"
     ]
    },
    {
     "output_type": "execute_result",
     "data": {
      "text/plain": [
       "Pose{Topology}(Topology{/2a3d:54960}, State{Float64}:\n",
       " Size: 1140\n",
       " i2c: false | c2i: false\n",
       " Energy: Dict(:Total => Inf)\n",
       ")"
      ]
     },
     "metadata": {},
     "execution_count": 2
    }
   ],
   "source": [
    "pose = ProtoSyn.load(\"data/2a3d.pdb\")"
   ]
  },
  {
   "source": [
    "## Masks\n",
    "\n",
    "Before starting to explore the different selection types, it's important to introduce the concept of Masks. All ProtoSyn selections can be applied to either a Pose or an AbstractContainer (a subset of the Pose's Graph) and return a Mask, a BitArray that states whether an Atom, Residue of Segment is currently selected or not. Of important notice is the fact that Masks, in ProtoSyn, are typed based on the level of the Graph they refer too: Atom, Residue or Segment level.\n",
    "\n",
    "## Stateful and Stateless selections\n",
    "\n",
    "Another important observation is the existance of Stateful and Stateless selections. As the name suggests, Stateless selections are not dependent on the Pose's State (as no information regarding the position of Atoms is important). In opposition, Stateful selections require a State to properly determine the selected Atom, Residue or Segment instances.\n",
    "\n",
    "## a) Selecting by index\n",
    "\n",
    "SerialSelections allow us to select Atom, Residue and Segment instances based on their `:index` or `:id`."
   ],
   "cell_type": "markdown",
   "metadata": {}
  },
  {
   "cell_type": "code",
   "execution_count": 3,
   "metadata": {},
   "outputs": [
    {
     "output_type": "execute_result",
     "data": {
      "text/plain": [
       "SerialSelection › Atom.id = 10\n"
      ]
     },
     "metadata": {},
     "execution_count": 3
    }
   ],
   "source": [
    "selection = SerialSelection{Atom}(10, :id)"
   ]
  },
  {
   "cell_type": "code",
   "execution_count": 4,
   "metadata": {},
   "outputs": [
    {
     "output_type": "execute_result",
     "data": {
      "text/plain": [
       "ProtoSyn.Mask\n",
       " ├── Type: Atom\n",
       " ├── Size: (1140,)\n",
       " ├── Count: 1\n",
       " └── Content: [0, 0, 0, 0, 0, 0, 0, 0, 0, 1  …  0, 0, 0, 0, 0, 0, 0, 0, 0, 0]"
      ]
     },
     "metadata": {},
     "execution_count": 4
    }
   ],
   "source": [
    "selection(pose)"
   ]
  },
  {
   "source": [
    "As stated before, a selection can be applied to a subset of the Pose's graph, such as a single Residue. This will loop over this subset of Atoms only and return a smaller Mask."
   ],
   "cell_type": "markdown",
   "metadata": {}
  },
  {
   "cell_type": "code",
   "execution_count": 5,
   "metadata": {},
   "outputs": [
    {
     "output_type": "execute_result",
     "data": {
      "text/plain": [
       "ProtoSyn.Mask\n",
       " ├── Type: Atom\n",
       " ├── Size: (19,)\n",
       " ├── Count: 1\n",
       " └── Content: [0, 0, 0, 0, 0, 0, 0, 0, 0, 1, 0, 0, 0, 0, 0, 0, 0, 0, 0]"
      ]
     },
     "metadata": {},
     "execution_count": 5
    }
   ],
   "source": [
    "residue = pose.graph[1][1]\n",
    "selection(residue)"
   ]
  },
  {
   "source": [
    "A selection type defines the type of instance looped over. In the next example, we will be selecting Residue instances, instead of Atom instances."
   ],
   "cell_type": "markdown",
   "metadata": {}
  },
  {
   "cell_type": "code",
   "execution_count": 6,
   "metadata": {},
   "outputs": [
    {
     "output_type": "execute_result",
     "data": {
      "text/plain": [
       "SerialSelection › Residue.id = 71\n"
      ]
     },
     "metadata": {},
     "execution_count": 6
    }
   ],
   "source": [
    "selection = SerialSelection{Residue}(71, :id)"
   ]
  },
  {
   "cell_type": "code",
   "execution_count": 7,
   "metadata": {},
   "outputs": [
    {
     "output_type": "execute_result",
     "data": {
      "text/plain": [
       "ProtoSyn.Mask\n",
       " ├── Type: Residue\n",
       " ├── Size: (73,)\n",
       " ├── Count: 1\n",
       " └── Content: [0, 0, 0, 0, 0, 0, 0, 0, 0, 0  …  0, 0, 0, 0, 0, 0, 0, 1, 0, 0]"
      ]
     },
     "metadata": {},
     "execution_count": 7
    }
   ],
   "source": [
    "selection(pose)"
   ]
  },
  {
   "source": [
    "Finally, most selection types in ProtoSyn have a short syntax. In the next example, we will showcase some of the SerialSelection short syntax. Check the documentation for more details."
   ],
   "cell_type": "markdown",
   "metadata": {}
  },
  {
   "cell_type": "code",
   "execution_count": 8,
   "metadata": {},
   "outputs": [
    {
     "output_type": "execute_result",
     "data": {
      "text/plain": [
       "ProtoSyn.Mask\n",
       " ├── Type: Residue\n",
       " ├── Size: (73,)\n",
       " ├── Count: 1\n",
       " └── Content: [0, 0, 0, 0, 0, 0, 0, 0, 0, 0  …  0, 0, 0, 0, 0, 0, 0, 1, 0, 0]"
      ]
     },
     "metadata": {},
     "execution_count": 8
    }
   ],
   "source": [
    "rid\"71\"(pose)"
   ]
  },
  {
   "cell_type": "code",
   "execution_count": 9,
   "metadata": {},
   "outputs": [
    {
     "output_type": "execute_result",
     "data": {
      "text/plain": [
       "ProtoSyn.Mask\n",
       " ├── Type: Residue\n",
       " ├── Size: (73,)\n",
       " ├── Count: 1\n",
       " └── Content: [0, 0, 0, 0, 0, 0, 0, 0, 0, 1  …  0, 0, 0, 0, 0, 0, 0, 0, 0, 0]"
      ]
     },
     "metadata": {},
     "execution_count": 9
    }
   ],
   "source": [
    "rix\"10\"(pose)"
   ]
  },
  {
   "cell_type": "code",
   "execution_count": 10,
   "metadata": {},
   "outputs": [
    {
     "output_type": "execute_result",
     "data": {
      "text/plain": [
       "ProtoSyn.Mask\n",
       " ├── Type: Atom\n",
       " ├── Size: (1140,)\n",
       " ├── Count: 1\n",
       " └── Content: [0, 0, 0, 0, 0, 0, 0, 0, 0, 1  …  0, 0, 0, 0, 0, 0, 0, 0, 0, 0]"
      ]
     },
     "metadata": {},
     "execution_count": 10
    }
   ],
   "source": [
    "aid\"10\"(pose)"
   ]
  },
  {
   "source": [
    "## b) Selecting a range of instances\n",
    "\n",
    "A common selection type is selecting a block of Atom, Residue or Segment instances, based on its `:id` or `:index` field. All instances with `:id` or `:index` between the given values are marked as selected (inclusive the ends)."
   ],
   "cell_type": "markdown",
   "metadata": {}
  },
  {
   "cell_type": "code",
   "execution_count": 11,
   "metadata": {},
   "outputs": [
    {
     "output_type": "execute_result",
     "data": {
      "text/plain": [
       "RangeSelection › Atom.id between 40 and 70\n"
      ]
     },
     "metadata": {},
     "execution_count": 11
    }
   ],
   "source": [
    "selection = RangeSelection{Atom}(40:70, :id)"
   ]
  },
  {
   "cell_type": "code",
   "execution_count": 12,
   "metadata": {},
   "outputs": [
    {
     "output_type": "execute_result",
     "data": {
      "text/plain": [
       "ProtoSyn.Mask\n",
       " ├── Type: Atom\n",
       " ├── Size: (1140,)\n",
       " ├── Count: 31\n",
       " └── Content: [0, 0, 0, 0, 0, 0, 0, 0, 0, 0  …  0, 0, 0, 0, 0, 0, 0, 0, 0, 0]"
      ]
     },
     "metadata": {},
     "execution_count": 12
    }
   ],
   "source": [
    "selection(pose)"
   ]
  },
  {
   "source": [
    "A short syntax is available."
   ],
   "cell_type": "markdown",
   "metadata": {}
  },
  {
   "cell_type": "code",
   "execution_count": 13,
   "metadata": {},
   "outputs": [
    {
     "output_type": "execute_result",
     "data": {
      "text/plain": [
       "ProtoSyn.Mask\n",
       " ├── Type: Residue\n",
       " ├── Size: (73,)\n",
       " ├── Count: 10\n",
       " └── Content: [1, 1, 1, 1, 1, 1, 1, 1, 1, 1  …  0, 0, 0, 0, 0, 0, 0, 0, 0, 0]"
      ]
     },
     "metadata": {},
     "execution_count": 13
    }
   ],
   "source": [
    "rid\"1:10\"(pose)"
   ]
  },
  {
   "source": [
    "## c) Selecting by field\n",
    "\n",
    "FieldSelections allow the user to search the Pose for Atom, Residue or Segments with a given field value. This is, in essence, similar to the behaviour of SerialSelections, but with especialized short syntax versions. Here are some examples. Check the documentation for more details."
   ],
   "cell_type": "markdown",
   "metadata": {}
  },
  {
   "cell_type": "code",
   "execution_count": 14,
   "metadata": {},
   "outputs": [
    {
     "output_type": "execute_result",
     "data": {
      "text/plain": [
       "FieldSelection › Residue.name = ALA\n"
      ]
     },
     "metadata": {},
     "execution_count": 14
    }
   ],
   "source": [
    "selection = FieldSelection{Residue}(\"ALA\", :name)"
   ]
  },
  {
   "cell_type": "code",
   "execution_count": 15,
   "metadata": {},
   "outputs": [
    {
     "output_type": "execute_result",
     "data": {
      "text/plain": [
       "ProtoSyn.Mask\n",
       " ├── Type: Residue\n",
       " ├── Size: (73,)\n",
       " ├── Count: 15\n",
       " └── Content: [0, 0, 0, 0, 1, 0, 0, 0, 0, 0  …  0, 0, 0, 0, 0, 1, 0, 0, 0, 0]"
      ]
     },
     "metadata": {},
     "execution_count": 15
    }
   ],
   "source": [
    "selection(pose)"
   ]
  },
  {
   "cell_type": "code",
   "execution_count": 16,
   "metadata": {},
   "outputs": [
    {
     "output_type": "execute_result",
     "data": {
      "text/plain": [
       "ProtoSyn.Mask\n",
       " ├── Type: Residue\n",
       " ├── Size: (73,)\n",
       " ├── Count: 3\n",
       " └── Content: [0, 0, 0, 0, 0, 0, 0, 0, 0, 0  …  0, 0, 0, 0, 0, 0, 0, 0, 0, 0]"
      ]
     },
     "metadata": {},
     "execution_count": 16
    }
   ],
   "source": [
    "rn\"ILE\"(pose)"
   ]
  },
  {
   "cell_type": "code",
   "execution_count": 17,
   "metadata": {},
   "outputs": [
    {
     "output_type": "execute_result",
     "data": {
      "text/plain": [
       "ProtoSyn.Mask\n",
       " ├── Type: Atom\n",
       " ├── Size: (1140,)\n",
       " ├── Count: 73\n",
       " └── Content: [0, 0, 0, 1, 0, 0, 0, 0, 0, 0  …  0, 0, 0, 0, 0, 0, 0, 0, 0, 0]"
      ]
     },
     "metadata": {},
     "execution_count": 17
    }
   ],
   "source": [
    "an\"O\"(pose)"
   ]
  },
  {
   "source": [
    "FieldSelections, as stated above, have a specialized short syntax that allows the usage of regular expressions when querying the Pose. Bellow are some examples."
   ],
   "cell_type": "markdown",
   "metadata": {}
  },
  {
   "cell_type": "code",
   "execution_count": 18,
   "metadata": {},
   "outputs": [
    {
     "output_type": "execute_result",
     "data": {
      "text/plain": [
       "FieldSelection › Residue.name = r\"GL*\"\n"
      ]
     },
     "metadata": {},
     "execution_count": 18
    }
   ],
   "source": [
    "selection = FieldSelection{Residue}(\"GL*\", :name, is_regex = true)"
   ]
  },
  {
   "cell_type": "code",
   "execution_count": 19,
   "metadata": {},
   "outputs": [
    {
     "output_type": "execute_result",
     "data": {
      "text/plain": [
       "ProtoSyn.Mask\n",
       " ├── Type: Residue\n",
       " ├── Size: (73,)\n",
       " ├── Count: 25\n",
       " └── Content: [0, 1, 0, 0, 0, 1, 0, 0, 1, 1  …  1, 0, 1, 0, 1, 0, 0, 1, 0, 0]"
      ]
     },
     "metadata": {},
     "execution_count": 19
    }
   ],
   "source": [
    "selection(pose)"
   ]
  },
  {
   "cell_type": "code",
   "execution_count": 20,
   "metadata": {},
   "outputs": [
    {
     "output_type": "execute_result",
     "data": {
      "text/plain": [
       "ProtoSyn.Mask\n",
       " ├── Type: Atom\n",
       " ├── Size: (1140,)\n",
       " ├── Count: 146\n",
       " └── Content: [0, 1, 1, 0, 0, 0, 0, 0, 0, 0  …  0, 0, 0, 0, 0, 0, 0, 0, 0, 0]"
      ]
     },
     "metadata": {},
     "execution_count": 20
    }
   ],
   "source": [
    "an\"C$|CA$\"r(pose)"
   ]
  },
  {
   "source": [
    "## d) Selecting based on distance\n",
    "\n",
    "DistanceSelection instances allow the selection of Atom instances based on its distance to another set of selected atoms, selecting those under the given cut-off value (in Angstrom). As such, this is an example of a Stateful selections, as it requires de Pose's State to correctly determine the distance between the particles. Bellow are some examples. Check the documentation for more details."
   ],
   "cell_type": "markdown",
   "metadata": {}
  },
  {
   "cell_type": "code",
   "execution_count": 21,
   "metadata": {},
   "outputs": [
    {
     "output_type": "execute_result",
     "data": {
      "text/plain": [
       "DistanceSelection ❯ Within 3.0 Å (Atom)\n",
       " └── FieldSelection › Atom.name = CA\n"
      ]
     },
     "metadata": {},
     "execution_count": 21
    }
   ],
   "source": [
    "selection = DistanceSelection(3.0, an\"CA\")"
   ]
  },
  {
   "cell_type": "code",
   "execution_count": 22,
   "metadata": {},
   "outputs": [
    {
     "output_type": "execute_result",
     "data": {
      "text/plain": [
       "ProtoSyn.Mask\n",
       " ├── Type: Atom\n",
       " ├── Size: (1140,)\n",
       " ├── Count: 813\n",
       " └── Content: [1, 1, 1, 1, 1, 1, 0, 0, 1, 1  …  1, 0, 0, 1, 1, 1, 1, 1, 1, 0]"
      ]
     },
     "metadata": {},
     "execution_count": 22
    }
   ],
   "source": [
    "selection(pose)"
   ]
  },
  {
   "source": [
    "Note that all DistanceSelection instances create an Atom Mask (even if the given selection is of type Residue). Check the \"Promotion\" topic bellow or the documentation for more details. As with other types of Selection, a short syntax is available."
   ],
   "cell_type": "markdown",
   "metadata": {}
  },
  {
   "cell_type": "code",
   "execution_count": 23,
   "metadata": {},
   "outputs": [
    {
     "output_type": "execute_result",
     "data": {
      "text/plain": [
       "ProtoSyn.Mask\n",
       " ├── Type: Atom\n",
       " ├── Size: (1140,)\n",
       " ├── Count: 793\n",
       " └── Content: [0, 1, 1, 1, 0, 0, 0, 0, 0, 0  …  1, 1, 1, 0, 1, 1, 1, 1, 1, 1]"
      ]
     },
     "metadata": {},
     "execution_count": 23
    }
   ],
   "source": [
    "(5.0:rn\"ALA\")(pose)"
   ]
  },
  {
   "source": [
    "## e) Selecting all Atom, Residue and Segment instances\n",
    "\n",
    "In certain cases it can be usefull to select all instances of a given type, especially when combined with unary and binary selections (see bellow and the documentation for more details). For this, ProtoSyn makes available the TrueSelection, as exemplified next."
   ],
   "cell_type": "markdown",
   "metadata": {}
  },
  {
   "cell_type": "code",
   "execution_count": 24,
   "metadata": {},
   "outputs": [
    {
     "output_type": "execute_result",
     "data": {
      "text/plain": [
       "TrueSelection (Residue)\n"
      ]
     },
     "metadata": {},
     "execution_count": 24
    }
   ],
   "source": [
    "selection = TrueSelection{Residue}()"
   ]
  },
  {
   "cell_type": "code",
   "execution_count": 25,
   "metadata": {},
   "outputs": [
    {
     "output_type": "execute_result",
     "data": {
      "text/plain": [
       "ProtoSyn.Mask\n",
       " ├── Type: Residue\n",
       " ├── Size: (73,)\n",
       " ├── Count: 73\n",
       " └── Content: [1, 1, 1, 1, 1, 1, 1, 1, 1, 1  …  1, 1, 1, 1, 1, 1, 1, 1, 1, 1]"
      ]
     },
     "metadata": {},
     "execution_count": 25
    }
   ],
   "source": [
    "selection(pose)"
   ]
  },
  {
   "source": [
    "## f) Selecting the terminal ends of a Pose\n",
    "\n",
    "Sometimes it can be useful to query the Pose for all the Residue instances that either have no children or are children of the Root of the Graph (marking them as terminals). This is achieved in ProtoSyn by applying the TerminalSelection, and is exemplified bellow. **Note that, in the given example, since we are loading the Pose vie the Core `ProtoSyn.load` method, no information regarding the Residue level graph is able to be inferred, and all Residue instances are marked as children of the Root. A more real result can be achieved by loading the PDB file with the more specific `ProtoSyn.Peptides.load` method, which correctly identifies Residue parenthood relationships in peptitic chains.**"
   ],
   "cell_type": "markdown",
   "metadata": {}
  },
  {
   "cell_type": "code",
   "execution_count": 26,
   "metadata": {},
   "outputs": [
    {
     "output_type": "execute_result",
     "data": {
      "text/plain": [
       "TerminalSelection (Residue)\n"
      ]
     },
     "metadata": {},
     "execution_count": 26
    }
   ],
   "source": [
    "selection = TerminalSelection()"
   ]
  },
  {
   "cell_type": "code",
   "execution_count": 27,
   "metadata": {},
   "outputs": [
    {
     "output_type": "execute_result",
     "data": {
      "text/plain": [
       "ProtoSyn.Mask\n",
       " ├── Type: Residue\n",
       " ├── Size: (73,)\n",
       " ├── Count: 73\n",
       " └── Content: [1, 1, 1, 1, 1, 1, 1, 1, 1, 1  …  1, 1, 1, 1, 1, 1, 1, 1, 1, 1]"
      ]
     },
     "metadata": {},
     "execution_count": 27
    }
   ],
   "source": [
    "selection(pose)"
   ]
  },
  {
   "source": [
    "## g) Randomly selecting instances of a given type\n",
    "\n",
    "RandomSelections allow the user to retrieve a random Atom, Residue or Segment every time the selection is applied to a Pose, as exemplified bellow."
   ],
   "cell_type": "markdown",
   "metadata": {}
  },
  {
   "cell_type": "code",
   "execution_count": 28,
   "metadata": {},
   "outputs": [
    {
     "output_type": "execute_result",
     "data": {
      "text/plain": [
       "RandomSelection › Residue.id\n"
      ]
     },
     "metadata": {},
     "execution_count": 28
    }
   ],
   "source": [
    "selection = RandomSelection{Residue}()"
   ]
  },
  {
   "cell_type": "code",
   "execution_count": 29,
   "metadata": {},
   "outputs": [
    {
     "output_type": "execute_result",
     "data": {
      "text/plain": [
       "ProtoSyn.Mask\n",
       " ├── Type: Residue\n",
       " ├── Size: (73,)\n",
       " ├── Count: 1\n",
       " └── Content: [0, 0, 0, 0, 0, 0, 0, 0, 0, 0  …  0, 0, 0, 0, 0, 0, 0, 0, 0, 0]"
      ]
     },
     "metadata": {},
     "execution_count": 29
    }
   ],
   "source": [
    "selection(pose)"
   ]
  },
  {
   "source": [
    "Alternativelly, a RandomSelection may receive an input selection, selecting a random instance from only the pre-selected instances."
   ],
   "cell_type": "markdown",
   "metadata": {}
  },
  {
   "cell_type": "code",
   "execution_count": 30,
   "metadata": {},
   "outputs": [
    {
     "output_type": "execute_result",
     "data": {
      "text/plain": [
       "RandomSelection › Atom.id › From\n",
       " └── SerialSelection › Residue.id = 1\n"
      ]
     },
     "metadata": {},
     "execution_count": 30
    }
   ],
   "source": [
    "selection = RandomSelection{Atom}(rid\"1\")"
   ]
  },
  {
   "cell_type": "code",
   "execution_count": 31,
   "metadata": {},
   "outputs": [
    {
     "output_type": "execute_result",
     "data": {
      "text/plain": [
       "ProtoSyn.Mask\n",
       " ├── Type: Atom\n",
       " ├── Size: (1140,)\n",
       " ├── Count: 1\n",
       " └── Content: [0, 0, 1, 0, 0, 0, 0, 0, 0, 0  …  0, 0, 0, 0, 0, 0, 0, 0, 0, 0]"
      ]
     },
     "metadata": {},
     "execution_count": 31
    }
   ],
   "source": [
    "selection(pose)"
   ]
  },
  {
   "source": [
    "## h) Randomly selecting a range of instances of a given type\n",
    "\n",
    "Another common selection task is to retrieve a random range of consecutivelly numbered Atom, Residue or Segments, everytime the selection is applied to a Pose. This is achieved by employing the RandomRangeSelection, as exemplified next."
   ],
   "cell_type": "markdown",
   "metadata": {}
  },
  {
   "cell_type": "code",
   "execution_count": 32,
   "metadata": {},
   "outputs": [
    {
     "output_type": "execute_result",
     "data": {
      "text/plain": [
       "RandomRangeSelection › Residue.id\n"
      ]
     },
     "metadata": {},
     "execution_count": 32
    }
   ],
   "source": [
    "selection = RandomRangeSelection{Residue}()"
   ]
  },
  {
   "cell_type": "code",
   "execution_count": 33,
   "metadata": {},
   "outputs": [
    {
     "output_type": "execute_result",
     "data": {
      "text/plain": [
       "ProtoSyn.Mask\n",
       " ├── Type: Residue\n",
       " ├── Size: (73,)\n",
       " ├── Count: 46\n",
       " └── Content: [0, 0, 0, 0, 0, 0, 0, 0, 0, 0  …  0, 0, 0, 0, 0, 0, 0, 0, 0, 0]"
      ]
     },
     "metadata": {},
     "execution_count": 33
    }
   ],
   "source": [
    "selection(pose)"
   ]
  },
  {
   "source": [
    "## i) Selecting a random selection to apply to a Pose\n",
    "\n",
    "A final example of random selections is the selection of a random selection. Everytime the RandomSelectionFromList is applied, a selection is chosen from the provided list and applied to the Pose. This allows the user to fine tune the exploration space for random selection, as exemplified bellow. Note that all selections in the list must be of the same type."
   ],
   "cell_type": "markdown",
   "metadata": {}
  },
  {
   "cell_type": "code",
   "execution_count": 34,
   "metadata": {},
   "outputs": [
    {
     "output_type": "execute_result",
     "data": {
      "text/plain": [
       "RandomSelectionFromList ❯ (Residue)\n",
       " ├── SerialSelection › Residue.id = 1\n",
       " └── SerialSelection › Residue.id = 2\n"
      ]
     },
     "metadata": {},
     "execution_count": 34
    }
   ],
   "source": [
    "selection = RandomSelectionFromList([rid\"1\", rid\"2\"])"
   ]
  },
  {
   "cell_type": "code",
   "execution_count": 35,
   "metadata": {},
   "outputs": [
    {
     "output_type": "execute_result",
     "data": {
      "text/plain": [
       "ProtoSyn.Mask\n",
       " ├── Type: Residue\n",
       " ├── Size: (73,)\n",
       " ├── Count: 1\n",
       " └── Content: [0, 1, 0, 0, 0, 0, 0, 0, 0, 0  …  0, 0, 0, 0, 0, 0, 0, 0, 0, 0]"
      ]
     },
     "metadata": {},
     "execution_count": 35
    }
   ],
   "source": [
    "selection(pose)"
   ]
  },
  {
   "source": [
    "## j) Selecting the opposite of a selection\n",
    "\n",
    "UnarySelections select the non selected Atom, Residue and Segment instances of a given selection (commonly refered to as the \"not\" selection). The short syntax is exemplified bellow."
   ],
   "cell_type": "markdown",
   "metadata": {}
  },
  {
   "cell_type": "code",
   "execution_count": 36,
   "metadata": {},
   "outputs": [
    {
     "output_type": "execute_result",
     "data": {
      "text/plain": [
       "UnarySelection ❯ ! \"not\" (Residue)\n",
       " └── RangeSelection › Residue.id between 1 and 3\n"
      ]
     },
     "metadata": {},
     "execution_count": 36
    }
   ],
   "source": [
    "selection = !rid\"1:3\""
   ]
  },
  {
   "cell_type": "code",
   "execution_count": 37,
   "metadata": {},
   "outputs": [
    {
     "output_type": "execute_result",
     "data": {
      "text/plain": [
       "ProtoSyn.Mask\n",
       " ├── Type: Residue\n",
       " ├── Size: (73,)\n",
       " ├── Count: 70\n",
       " └── Content: [0, 0, 0, 1, 1, 1, 1, 1, 1, 1  …  1, 1, 1, 1, 1, 1, 1, 1, 1, 1]"
      ]
     },
     "metadata": {},
     "execution_count": 37
    }
   ],
   "source": [
    "selection(pose)"
   ]
  },
  {
   "source": [
    "## k) Binary combinations of selections\n",
    "\n",
    "One important type of selection is the BinarySelection, allowing users to combine two or more selections using \"and\" and \"or\" operators, as shown next."
   ],
   "cell_type": "markdown",
   "metadata": {}
  },
  {
   "cell_type": "code",
   "execution_count": 38,
   "metadata": {},
   "outputs": [
    {
     "output_type": "execute_result",
     "data": {
      "text/plain": [
       "BinarySelection ❯  & \"and\" (Atom)\n",
       " ├── FieldSelection › Residue.name = ALA\n",
       " └── FieldSelection › Atom.name = CA\n"
      ]
     },
     "metadata": {},
     "execution_count": 38
    }
   ],
   "source": [
    "selection = BinarySelection(&, rn\"ALA\", an\"CA\")"
   ]
  },
  {
   "cell_type": "code",
   "execution_count": 39,
   "metadata": {},
   "outputs": [
    {
     "output_type": "execute_result",
     "data": {
      "text/plain": [
       "ProtoSyn.Mask\n",
       " ├── Type: Atom\n",
       " ├── Size: (1140,)\n",
       " ├── Count: 15\n",
       " └── Content: [0, 0, 0, 0, 0, 0, 0, 0, 0, 0  …  0, 0, 0, 0, 0, 0, 0, 0, 0, 0]"
      ]
     },
     "metadata": {},
     "execution_count": 39
    }
   ],
   "source": [
    "selection(pose)"
   ]
  },
  {
   "source": [
    "This can also be achieved using the available short syntax."
   ],
   "cell_type": "markdown",
   "metadata": {}
  },
  {
   "cell_type": "code",
   "execution_count": 40,
   "metadata": {},
   "outputs": [
    {
     "output_type": "execute_result",
     "data": {
      "text/plain": [
       "ProtoSyn.Mask\n",
       " ├── Type: Atom\n",
       " ├── Size: (1140,)\n",
       " ├── Count: 146\n",
       " └── Content: [0, 1, 1, 0, 0, 0, 0, 0, 0, 0  …  0, 0, 0, 0, 0, 0, 0, 0, 0, 0]"
      ]
     },
     "metadata": {},
     "execution_count": 40
    }
   ],
   "source": [
    "(an\"CA\" | an\"C\")(pose)"
   ]
  },
  {
   "source": [
    "Note that, when combining more than 2 selections, the order is important. Specific grouping of selections can be achieved by using parenthesis, as exemplified bellow."
   ],
   "cell_type": "markdown",
   "metadata": {}
  },
  {
   "cell_type": "code",
   "execution_count": 41,
   "metadata": {},
   "outputs": [
    {
     "output_type": "execute_result",
     "data": {
      "text/plain": [
       "BinarySelection ❯  | \"or\" (Atom)\n",
       " ├── BinarySelection ❯  & \"and\" (Atom)\n",
       " |    ├── FieldSelection › Atom.name = CA\n",
       " |    └── RangeSelection › Residue.id between 1 and 3\n",
       " └── RangeSelection › Residue.id between 6 and 7\n"
      ]
     },
     "metadata": {},
     "execution_count": 41
    }
   ],
   "source": [
    "an\"CA\" & rid\"1:3\" | rid\"6:7\""
   ]
  },
  {
   "cell_type": "code",
   "execution_count": 42,
   "metadata": {},
   "outputs": [
    {
     "output_type": "execute_result",
     "data": {
      "text/plain": [
       "BinarySelection ❯  & \"and\" (Atom)\n",
       " ├── FieldSelection › Atom.name = CA\n",
       " └── BinarySelection ❯  | \"or\" (Residue)\n",
       "      ├── RangeSelection › Residue.id between 1 and 3\n",
       "      └── RangeSelection › Residue.id between 6 and 7\n"
      ]
     },
     "metadata": {},
     "execution_count": 42
    }
   ],
   "source": [
    "an\"CA\" & (rid\"1:3\" | rid\"6:7\")"
   ]
  },
  {
   "source": [
    "## l) Promoting a selection from one type to another\n",
    "\n",
    "A final selection type of the PromoteSelection, which takes a selection and transforms the resulting Mask from one type (for example, Residue) to another (Atom, for example)."
   ],
   "cell_type": "markdown",
   "metadata": {}
  },
  {
   "cell_type": "code",
   "execution_count": 43,
   "metadata": {},
   "outputs": [
    {
     "output_type": "execute_result",
     "data": {
      "text/plain": [
       "PromoteSelection ❯ From Residue to Atom\n",
       " └── SerialSelection › Residue.id = 1\n"
      ]
     },
     "metadata": {},
     "execution_count": 43
    }
   ],
   "source": [
    "selection = PromoteSelection(rid\"1\", Atom, all)"
   ]
  },
  {
   "cell_type": "code",
   "execution_count": 44,
   "metadata": {},
   "outputs": [
    {
     "output_type": "execute_result",
     "data": {
      "text/plain": [
       "ProtoSyn.Mask\n",
       " ├── Type: Atom\n",
       " ├── Size: (1140,)\n",
       " ├── Count: 19\n",
       " └── Content: [1, 1, 1, 1, 1, 1, 1, 1, 1, 1  …  0, 0, 0, 0, 0, 0, 0, 0, 0, 0]"
      ]
     },
     "metadata": {},
     "execution_count": 44
    }
   ],
   "source": [
    "selection(pose)"
   ]
  },
  {
   "source": [
    "Or, in a different syntax, using the `promote` method. By default, this uses the `any` operator, meaning that any instance of the requested type that contains at least one of the selected instances is marked as selected. An alterative would be to use the `all` operator, meaning that all instances of the requested type must be selected in the given selection to be marked as true in the resulting Mask."
   ],
   "cell_type": "markdown",
   "metadata": {}
  },
  {
   "cell_type": "code",
   "execution_count": 45,
   "metadata": {},
   "outputs": [
    {
     "output_type": "execute_result",
     "data": {
      "text/plain": [
       "PromoteSelection ❯ From Atom to Residue\n",
       " └── FieldSelection › Atom.name = CG\n"
      ]
     },
     "metadata": {},
     "execution_count": 45
    }
   ],
   "source": [
    "selection = ProtoSyn.promote(an\"CG\", Residue)"
   ]
  },
  {
   "cell_type": "code",
   "execution_count": 46,
   "metadata": {},
   "outputs": [
    {
     "output_type": "execute_result",
     "data": {
      "text/plain": [
       "ProtoSyn.Mask\n",
       " ├── Type: Residue\n",
       " ├── Size: (73,)\n",
       " ├── Count: 45\n",
       " └── Content: [1, 0, 0, 1, 0, 1, 1, 1, 1, 1  …  1, 1, 1, 1, 1, 0, 1, 1, 1, 1]"
      ]
     },
     "metadata": {},
     "execution_count": 46
    }
   ],
   "source": [
    "selection(pose)"
   ]
  },
  {
   "source": [
    "## Some more examples\n",
    "\n",
    "In this short topic, an assorted set of complex selections is showcased.\n",
    "\n",
    "+ Selecting all Residue instances where all atom instances are within 10 angstrom of any atom of the first residue."
   ],
   "cell_type": "markdown",
   "metadata": {}
  },
  {
   "cell_type": "code",
   "execution_count": 47,
   "metadata": {},
   "outputs": [
    {
     "output_type": "execute_result",
     "data": {
      "text/plain": [
       "PromoteSelection ❯ From Atom to Residue\n",
       " └── DistanceSelection ❯ Within 10 Å (Atom)\n",
       "      └── SerialSelection › Residue.id = 1\n"
      ]
     },
     "metadata": {},
     "execution_count": 47
    }
   ],
   "source": [
    "ProtoSyn.promote((10:rid\"1\"), Residue, all)"
   ]
  },
  {
   "source": [
    "+ Selecting all backbone Atom instances in a pose which belong to either an ALA or ARG residue."
   ],
   "cell_type": "markdown",
   "metadata": {}
  },
  {
   "cell_type": "code",
   "execution_count": 48,
   "metadata": {},
   "outputs": [
    {
     "output_type": "execute_result",
     "data": {
      "text/plain": [
       "BinarySelection ❯  & \"and\" (Atom)\n",
       " ├── FieldSelection › Atom.name = r\"^C$|^CA$|^N$|^H$|^O$|\"\n",
       " └── BinarySelection ❯  | \"or\" (Residue)\n",
       "      ├── FieldSelection › Residue.name = ALA\n",
       "      └── FieldSelection › Residue.name = ARG\n"
      ]
     },
     "metadata": {},
     "execution_count": 48
    }
   ],
   "source": [
    "an\"^C$|^CA$|^N$|^H$|^O$|\"r & (rn\"ALA\" | rn\"ARG\")"
   ]
  },
  {
   "source": [
    "+ Selecting all CA atoms from a random residue range."
   ],
   "cell_type": "markdown",
   "metadata": {}
  },
  {
   "cell_type": "code",
   "execution_count": 49,
   "metadata": {},
   "outputs": [
    {
     "output_type": "execute_result",
     "data": {
      "text/plain": [
       "BinarySelection ❯  & \"and\" (Atom)\n",
       " ├── FieldSelection › Atom.name = CA\n",
       " └── RandomRangeSelection › Residue.id\n"
      ]
     },
     "metadata": {},
     "execution_count": 49
    }
   ],
   "source": [
    "an\"CA\" & RandomRangeSelection{Residue}()"
   ]
  },
  {
   "source": [
    "+ Selecting all sidechain atoms in the first 20 or last 20 residues of the Pose."
   ],
   "cell_type": "markdown",
   "metadata": {}
  },
  {
   "cell_type": "code",
   "execution_count": 50,
   "metadata": {},
   "outputs": [
    {
     "output_type": "execute_result",
     "data": {
      "text/plain": [
       "BinarySelection ❯  & \"and\" (Atom)\n",
       " ├── UnarySelection ❯ ! \"not\" (Atom)\n",
       " |    └── FieldSelection › Atom.name = r\"^C$|^CA$|^N$|^H$|^O$|\"\n",
       " └── BinarySelection ❯  | \"or\" (Residue)\n",
       "      ├── RangeSelection › Residue.id between 1 and 20\n",
       "      └── RangeSelection › Residue.id larger than 63\n"
      ]
     },
     "metadata": {},
     "execution_count": 50
    }
   ],
   "source": [
    "!an\"^C$|^CA$|^N$|^H$|^O$|\"r & (rid\"1:20\" | rid\"63:end\")"
   ]
  },
  {
   "source": [
    "***"
   ],
   "cell_type": "markdown",
   "metadata": {}
  },
  {
   "source": [
    "## Peptides Module Selections\n",
    "\n",
    "Some ProtoSyn modules may include extra selection types, specific for the topic of that module. This is the case with the Peptides module, adding the following selection types. Note that, for simplification of the syntax, all added selection types are available without the `ProtoSyn.Peptides` prefix, being available directly from ProtoSyn. For the next examples, the pose will be re-loaded, using the more specific `Peptides.load` method."
   ],
   "cell_type": "markdown",
   "metadata": {}
  },
  {
   "source": [
    "pose = ProtoSyn.Peptides.load(\"data/2a3d.pdb\")"
   ],
   "cell_type": "code",
   "metadata": {},
   "execution_count": 51,
   "outputs": [
    {
     "output_type": "stream",
     "name": "stderr",
     "text": [
      "┌ Info: Flag `bonds_by_distance` is set to False. Make sure the loaded data/2a3d.pdb file has connect records.\n└ @ ProtoSyn.Peptides /home/jpereira/project_c/ProtoSyn.jl/src/Peptides/Methods/io.jl:30\n"
     ]
    },
    {
     "output_type": "execute_result",
     "data": {
      "text/plain": [
       "Pose{Topology}(Topology{/2a3d:18919}, State{Float64}:\n",
       " Size: 1140\n",
       " i2c: false | c2i: false\n",
       " Energy: Dict(:Total => Inf)\n",
       ")"
      ]
     },
     "metadata": {},
     "execution_count": 51
    }
   ]
  },
  {
   "source": [
    "## m) Selecting the polar aminoacids\n",
    "\n",
    "A first addition is the ability to directly select only the polar aminoacids, as described in the `ProtoSyn.Peptides.polar_residues` list."
   ],
   "cell_type": "markdown",
   "metadata": {}
  },
  {
   "cell_type": "code",
   "execution_count": 52,
   "metadata": {},
   "outputs": [
    {
     "output_type": "execute_result",
     "data": {
      "text/plain": [
       "PolarSelection › (Residue)\n"
      ]
     },
     "metadata": {},
     "execution_count": 52
    }
   ],
   "source": [
    "selection = PolarSelection()"
   ]
  },
  {
   "cell_type": "code",
   "execution_count": 53,
   "metadata": {},
   "outputs": [
    {
     "output_type": "execute_result",
     "data": {
      "text/plain": [
       "ProtoSyn.Mask\n",
       " ├── Type: Residue\n",
       " ├── Size: (73,)\n",
       " ├── Count: 36\n",
       " └── Content: [0, 0, 1, 0, 0, 1, 0, 1, 1, 1  …  1, 1, 1, 0, 1, 0, 1, 1, 1, 1]"
      ]
     },
     "metadata": {},
     "execution_count": 53
    }
   ],
   "source": [
    "selection(pose)"
   ]
  },
  {
   "source": [
    "## n) Selecting the sidechain directly\n",
    "\n",
    "In the previous examples, an approach to selecting the backbone and sidechain atoms was shown, using regular expressions. In the Peptides module, this is simplified, by employing the SidechainSelection directly."
   ],
   "cell_type": "markdown",
   "metadata": {}
  },
  {
   "cell_type": "code",
   "execution_count": 54,
   "metadata": {},
   "outputs": [
    {
     "output_type": "execute_result",
     "data": {
      "text/plain": [
       "SidechainSelection › (Atom)\n"
      ]
     },
     "metadata": {},
     "execution_count": 54
    }
   ],
   "source": [
    "selection = SidechainSelection()"
   ]
  },
  {
   "cell_type": "code",
   "execution_count": 55,
   "metadata": {},
   "outputs": [
    {
     "output_type": "execute_result",
     "data": {
      "text/plain": [
       "ProtoSyn.Mask\n",
       " ├── Type: Atom\n",
       " ├── Size: (1140,)\n",
       " ├── Count: 777\n",
       " └── Content: [0, 0, 0, 0, 1, 1, 1, 1, 1, 1  …  1, 1, 1, 1, 0, 1, 1, 1, 1, 1]"
      ]
     },
     "metadata": {},
     "execution_count": 55
    }
   ],
   "source": [
    "selection(pose)"
   ]
  },
  {
   "source": [
    "## o) Selecting residues based on the current secondary structure\n",
    "\n",
    "This final selection type attempts to select residue instances based on the phi and psi dihedral angle values, placing them in bins such as alpha helix, beta sheet, etc. Note that, in certain loop residues, the phi and psi dihedral angle values may still fall into the classification of one of these categories. Check the documentation for more details."
   ],
   "cell_type": "markdown",
   "metadata": {}
  },
  {
   "cell_type": "code",
   "execution_count": 56,
   "metadata": {},
   "outputs": [
    {
     "output_type": "execute_result",
     "data": {
      "text/plain": [
       "SecondaryStructureSelection › helix (± 50.0°)\n"
      ]
     },
     "metadata": {},
     "execution_count": 56
    }
   ],
   "source": [
    "selection = SecondaryStructureSelection(:helix)"
   ]
  },
  {
   "cell_type": "code",
   "execution_count": 57,
   "metadata": {},
   "outputs": [
    {
     "output_type": "execute_result",
     "data": {
      "text/plain": [
       "ProtoSyn.Mask\n",
       " ├── Type: Residue\n",
       " ├── Size: (73,)\n",
       " ├── Count: 63\n",
       " └── Content: [0, 1, 1, 1, 1, 1, 1, 1, 1, 1  …  1, 1, 1, 1, 1, 1, 1, 1, 0, 0]"
      ]
     },
     "metadata": {},
     "execution_count": 57
    }
   ],
   "source": [
    "selection(pose)"
   ]
  },
  {
   "source": [
    "A short syntax is also available."
   ],
   "cell_type": "markdown",
   "metadata": {}
  },
  {
   "cell_type": "code",
   "execution_count": 58,
   "metadata": {},
   "outputs": [
    {
     "output_type": "execute_result",
     "data": {
      "text/plain": [
       "ProtoSyn.Mask\n",
       " ├── Type: Residue\n",
       " ├── Size: (73,)\n",
       " ├── Count: 63\n",
       " └── Content: [0, 1, 1, 1, 1, 1, 1, 1, 1, 1  …  1, 1, 1, 1, 1, 1, 1, 1, 0, 0]"
      ]
     },
     "metadata": {},
     "execution_count": 58
    }
   ],
   "source": [
    "ss\"helix\"(pose)"
   ]
  },
  {
   "source": [
    "## Conclusion\n",
    "\n",
    "In this example script we took a look into the rich and detailed selection syntax for ProtoSyn. In the next examples, this will be used to specify what parts of the structures are subjected to certain changes, allowing a great deal of control over the simulations performed in ProtoSyn."
   ],
   "cell_type": "markdown",
   "metadata": {}
  }
 ]
}