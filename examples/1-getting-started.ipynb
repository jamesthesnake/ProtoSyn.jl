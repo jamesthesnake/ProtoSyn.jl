{
 "metadata": {
  "language_info": {
   "file_extension": ".jl",
   "name": "julia",
   "mimetype": "application/julia",
   "version": "1.6.1"
  },
  "orig_nbformat": 4,
  "kernelspec": {
   "name": "julia-1.6",
   "display_name": "Julia 1.6.1",
   "language": "julia"
  }
 },
 "nbformat": 4,
 "nbformat_minor": 2,
 "cells": [
  {
   "cell_type": "markdown",
   "source": [
    "### Welcome to the ProtoSyn.jl examples\n",
    "\n",
    "# 1 - Getting Started\n",
    "\n",
    "In this first example script, we will explore how ProtoSyn.jl is organized and what are the available data structures. The example script is divided in 4 parts:\n",
    "+ Loading a PDB file as a Pose\n",
    "+ Exploring the Graph structure\n",
    "+ Exploring the State structure\n",
    "+ Export a Pose as a PDB file\n",
    "\n",
    "## Loading a PDB file as a Pose\n",
    "\n",
    "A Pose is the main data structure in ProtoSyn, and is subdivided in a directed Graph, and a State. We will explore these latter. In order to load a new Pose from a file, we can use the `load` function. "
   ],
   "metadata": {}
  },
  {
   "cell_type": "code",
   "execution_count": 1,
   "source": [
    "using ProtoSyn"
   ],
   "outputs": [
    {
     "output_type": "stream",
     "name": "stderr",
     "text": [
      "┌ Info: Precompiling ProtoSyn [c9758760-7c0d-11e9-0ffc-fb9355b7d293]\n",
      "└ @ Base loading.jl:1317\n",
      "\u001b[36m\u001b[1m[ \u001b[22m\u001b[39m\u001b[36m\u001b[1mInfo: \u001b[22m\u001b[39mLoading required packages\n",
      "\u001b[36m\u001b[1m[ \u001b[22m\u001b[39m\u001b[36m\u001b[1mInfo: \u001b[22m\u001b[39m | Loading SIMD\n",
      "\u001b[36m\u001b[1m[ \u001b[22m\u001b[39m\u001b[36m\u001b[1mInfo: \u001b[22m\u001b[39m | Loading CUDA\n",
      "\u001b[36m\u001b[1m[ \u001b[22m\u001b[39m\u001b[36m\u001b[1mInfo: \u001b[22m\u001b[39mSetting up variables\n",
      "\u001b[36m\u001b[1m[ \u001b[22m\u001b[39m\u001b[36m\u001b[1mInfo: \u001b[22m\u001b[39mCurrent acceleration set to ProtoSyn.Acceleration(ProtoSyn.CUDA_2)\n",
      "\u001b[36m\u001b[1m[ \u001b[22m\u001b[39m\u001b[36m\u001b[1mInfo: \u001b[22m\u001b[39mLoading Core\n",
      "\u001b[36m\u001b[1m[ \u001b[22m\u001b[39m\u001b[36m\u001b[1mInfo: \u001b[22m\u001b[39mLoading Calculators\n",
      "\u001b[36m\u001b[1m[ \u001b[22m\u001b[39m\u001b[36m\u001b[1mInfo: \u001b[22m\u001b[39m | Loading TorchANI\n",
      "\u001b[36m\u001b[1m[ \u001b[22m\u001b[39m\u001b[36m\u001b[1mInfo: \u001b[22m\u001b[39m | Loading Restraint Models\n",
      "\u001b[36m\u001b[1m[ \u001b[22m\u001b[39m\u001b[36m\u001b[1mInfo: \u001b[22m\u001b[39m | Loading Energy Function\n",
      "\u001b[36m\u001b[1m[ \u001b[22m\u001b[39m\u001b[36m\u001b[1mInfo: \u001b[22m\u001b[39mLoading Mutators\n",
      "\u001b[36m\u001b[1m[ \u001b[22m\u001b[39m\u001b[36m\u001b[1mInfo: \u001b[22m\u001b[39mLoading Drivers\n",
      "\u001b[36m\u001b[1m[ \u001b[22m\u001b[39m\u001b[36m\u001b[1mInfo: \u001b[22m\u001b[39mLoading Peptides\n",
      "\u001b[36m\u001b[1m[ \u001b[22m\u001b[39m\u001b[36m\u001b[1mInfo: \u001b[22m\u001b[39mLoading Materials\n",
      "\u001b[36m\u001b[1m[ \u001b[22m\u001b[39m\u001b[36m\u001b[1mInfo: \u001b[22m\u001b[39mLoading Sugars\n",
      "\u001b[36m\u001b[1m[ \u001b[22m\u001b[39m\u001b[36m\u001b[1mInfo: \u001b[22m\u001b[39mLoading Common\n",
      "\u001b[36m\u001b[1m[ \u001b[22m\u001b[39m\u001b[36m\u001b[1mInfo: \u001b[22m\u001b[39mProtoSyn loaded successfully!\n"
     ]
    },
    {
     "output_type": "stream",
     "name": "stdout",
     "text": [
      "\n",
      ".      ____            _       ____              \n",
      "      |  _ \\ _ __ ___ | |_ ___/ ___| _   _ _ __  \n",
      "      | |_) | '__/ _ \\| __/ _ \\___ \\| | | | '_ \\ \n",
      "      |  __/| | | (_) | || (_) |__) | |_| | | | |\n",
      "      |_|   |_|  \\___/ \\__\\___/____/ \\__, |_| |_|\n",
      "                                       |_/       \n",
      "    \n",
      "      ---------------------------------------------\n",
      "\n",
      " Version      : 0.90\n",
      " License      : GNU-GPL-3\n",
      " Developed by : José Pereira (jose.manuel.pereira@ua.pt)\n",
      "                Sérgio Santos\n"
     ]
    }
   ],
   "metadata": {}
  },
  {
   "cell_type": "code",
   "execution_count": 29,
   "source": [
    "pose = ProtoSyn.load(\"data/2a3d.pdb\")"
   ],
   "outputs": [
    {
     "output_type": "execute_result",
     "data": {
      "text/plain": [
       "Pose{Topology}(Topology{/2a3d:4745}, State{Float64}:\n",
       " Size: 1140\n",
       " i2c: false | c2i: false\n",
       " Energy: Dict(:Total => Inf)\n",
       ")"
      ]
     },
     "metadata": {},
     "execution_count": 29
    }
   ],
   "metadata": {}
  },
  {
   "cell_type": "markdown",
   "source": [
    "Note that ProtoSyn automatically detects the file format from the file name ending (currently supports PDB and YML formats). As stated before, a Pose is comprised of 2 important data structures: the Graph and the State. In one hand, the Graph is responsible to maintain an accurate representation of the atoms contained in the pose, their organization and relationship with eachother. For example, what atoms belong to a given aminoacid in a peptidic chain, or what other atoms are bonded to any given atom. Unless a molecular manipulation task is performed (such as a mutation of appendage of residues), the Graph information remains stable and immutable throughout a simulation. On the other hand, a State is responsible to hold the information regarding the 3D position of each atom in the Pose, and usually changes each step over the course of a simulation job. Both these structures will be explored more in depth in the following sections.\n",
    "\n",
    "## Exploring the Graph structure"
   ],
   "metadata": {}
  },
  {
   "cell_type": "code",
   "execution_count": 30,
   "source": [
    "pose.graph"
   ],
   "outputs": [
    {
     "output_type": "execute_result",
     "data": {
      "text/plain": [
       "Topology{/2a3d:4745}"
      ]
     },
     "metadata": {},
     "execution_count": 30
    }
   ],
   "metadata": {}
  },
  {
   "cell_type": "markdown",
   "source": [
    "Firstly, a Graph is comprised of several levels of data organization, each subsequentially more specialized. The levels are the following: at the top level, a Topology holds all chains of a molecular structure. Each chain is called a Segment, and holds one or more Residue instances. In the case of Peptides, a Residue can be considered an aminoacid, por example. Each Residue holds one or more Atom instances, the lowest level of organization.\n",
    "\n",
    "### Topology > Segment > Residue > Atom"
   ],
   "metadata": {}
  },
  {
   "cell_type": "code",
   "execution_count": 31,
   "source": [
    "pose.graph.items"
   ],
   "outputs": [
    {
     "output_type": "execute_result",
     "data": {
      "text/plain": [
       "1-element Vector{Segment}:\n",
       " Segment{/2a3d:4745/A:1}"
      ]
     },
     "metadata": {},
     "execution_count": 31
    }
   ],
   "metadata": {}
  },
  {
   "cell_type": "code",
   "execution_count": 32,
   "source": [
    "pose.graph.items[1].items"
   ],
   "outputs": [
    {
     "output_type": "execute_result",
     "data": {
      "text/plain": [
       "73-element Vector{Residue}:\n",
       " Residue{/2a3d:4745/A:1/MET:1}\n",
       " Residue{/2a3d:4745/A:1/GLY:2}\n",
       " Residue{/2a3d:4745/A:1/SER:3}\n",
       " Residue{/2a3d:4745/A:1/TRP:4}\n",
       " Residue{/2a3d:4745/A:1/ALA:5}\n",
       " Residue{/2a3d:4745/A:1/GLU:6}\n",
       " Residue{/2a3d:4745/A:1/PHE:7}\n",
       " Residue{/2a3d:4745/A:1/LYS:8}\n",
       " Residue{/2a3d:4745/A:1/GLN:9}\n",
       " Residue{/2a3d:4745/A:1/ARG:10}\n",
       " Residue{/2a3d:4745/A:1/LEU:11}\n",
       " Residue{/2a3d:4745/A:1/ALA:12}\n",
       " Residue{/2a3d:4745/A:1/ALA:13}\n",
       " ⋮\n",
       " Residue{/2a3d:4745/A:1/ALA:62}\n",
       " Residue{/2a3d:4745/A:1/ILE:63}\n",
       " Residue{/2a3d:4745/A:1/ARG:64}\n",
       " Residue{/2a3d:4745/A:1/ASP:65}\n",
       " Residue{/2a3d:4745/A:1/GLU:66}\n",
       " Residue{/2a3d:4745/A:1/LEU:67}\n",
       " Residue{/2a3d:4745/A:1/GLN:68}\n",
       " Residue{/2a3d:4745/A:1/ALA:69}\n",
       " Residue{/2a3d:4745/A:1/TYR:70}\n",
       " Residue{/2a3d:4745/A:1/ARG:71}\n",
       " Residue{/2a3d:4745/A:1/HIS:72}\n",
       " Residue{/2a3d:4745/A:1/ASN:73}"
      ]
     },
     "metadata": {},
     "execution_count": 32
    }
   ],
   "metadata": {}
  },
  {
   "cell_type": "code",
   "execution_count": 33,
   "source": [
    "pose.graph.items[1].items[1].items"
   ],
   "outputs": [
    {
     "output_type": "execute_result",
     "data": {
      "text/plain": [
       "19-element Vector{Atom}:\n",
       " Atom{/2a3d:4745/A:1/MET:1/N:1}\n",
       " Atom{/2a3d:4745/A:1/MET:1/CA:2}\n",
       " Atom{/2a3d:4745/A:1/MET:1/C:3}\n",
       " Atom{/2a3d:4745/A:1/MET:1/O:4}\n",
       " Atom{/2a3d:4745/A:1/MET:1/CB:5}\n",
       " Atom{/2a3d:4745/A:1/MET:1/CG:6}\n",
       " Atom{/2a3d:4745/A:1/MET:1/SD:7}\n",
       " Atom{/2a3d:4745/A:1/MET:1/CE:8}\n",
       " Atom{/2a3d:4745/A:1/MET:1/HA:9}\n",
       " Atom{/2a3d:4745/A:1/MET:1/HB2:10}\n",
       " Atom{/2a3d:4745/A:1/MET:1/HB3:11}\n",
       " Atom{/2a3d:4745/A:1/MET:1/HG2:12}\n",
       " Atom{/2a3d:4745/A:1/MET:1/HG3:13}\n",
       " Atom{/2a3d:4745/A:1/MET:1/HE1:14}\n",
       " Atom{/2a3d:4745/A:1/MET:1/HE2:15}\n",
       " Atom{/2a3d:4745/A:1/MET:1/HE3:16}\n",
       " Atom{/2a3d:4745/A:1/MET:1/H1:17}\n",
       " Atom{/2a3d:4745/A:1/MET:1/H2:18}\n",
       " Atom{/2a3d:4745/A:1/MET:1/H3:19}"
      ]
     },
     "metadata": {},
     "execution_count": 33
    }
   ],
   "metadata": {}
  },
  {
   "cell_type": "markdown",
   "source": [
    "In this example, the 2A3D structure ony has 1 chain, which in turn contains 73 Residue instances (or aminoacids, in this case). As example, the first Residue is a MET aminoacid, with 19 Atoms.\n",
    "\n",
    "There are multiple ways of accessing this information:\n",
    "\n",
    "1. As show above, each of the levels in a Graph has an `:items` field (a list of the lower level instances contained within). This can easily become too cumbersome to type.\n",
    "\n",
    "2. We can also access this list using a short syntax: `pose.graph[1][1]`\n",
    "\n",
    "3. Or using the condensed syntax: `pose.graph[1, 1]`"
   ],
   "metadata": {}
  },
  {
   "cell_type": "code",
   "execution_count": 34,
   "source": [
    "pose.graph[1][1][1]"
   ],
   "outputs": [
    {
     "output_type": "execute_result",
     "data": {
      "text/plain": [
       "Atom{/2a3d:4745/A:1/MET:1/N:1}"
      ]
     },
     "metadata": {},
     "execution_count": 34
    }
   ],
   "metadata": {}
  },
  {
   "cell_type": "code",
   "execution_count": 35,
   "source": [
    "pose.graph[1, 1, 1]"
   ],
   "outputs": [
    {
     "output_type": "execute_result",
     "data": {
      "text/plain": [
       "Atom{/2a3d:4745/A:1/MET:1/N:1}"
      ]
     },
     "metadata": {},
     "execution_count": 35
    }
   ],
   "metadata": {}
  },
  {
   "cell_type": "markdown",
   "source": [
    "When dealing with Atom instances inside a Residue, an extra way of indexing the atom is provided: based on the name of the atom. Following the IUPAC reccomendations, Atom names in a residue should be unique. In ProtoSyn, this information is stored in the Residue `:itemsbyname` field, as a dictionary. As such, the last level of indexation can be the Atom's name."
   ],
   "metadata": {}
  },
  {
   "cell_type": "code",
   "execution_count": 36,
   "source": [
    "pose.graph[1][1][\"CA\"]"
   ],
   "outputs": [
    {
     "output_type": "execute_result",
     "data": {
      "text/plain": [
       "Atom{/2a3d:4745/A:1/MET:1/CA:2}"
      ]
     },
     "metadata": {},
     "execution_count": 36
    }
   ],
   "metadata": {}
  },
  {
   "cell_type": "code",
   "execution_count": 37,
   "source": [
    "pose.graph[1, 1, \"CA\"]"
   ],
   "outputs": [
    {
     "output_type": "execute_result",
     "data": {
      "text/plain": [
       "Atom{/2a3d:4745/A:1/MET:1/CA:2}"
      ]
     },
     "metadata": {},
     "execution_count": 37
    }
   ],
   "metadata": {}
  },
  {
   "cell_type": "markdown",
   "source": [
    "Another important aspect of the Graph structure is that it is an example of a directed graph. This means that every data point in the graph has a parenthood relationship with the rest of the structure. This is applied, in ProtoSyn, at the levels of both the Atom and Residue instances. This means that every Atom in a Pose has a `:parent` and may have one or more `:children` atoms, and the same applies to Residue parenthood relationships."
   ],
   "metadata": {}
  },
  {
   "cell_type": "code",
   "execution_count": 38,
   "source": [
    "pose.graph[1, 1, \"CA\"].parent"
   ],
   "outputs": [
    {
     "output_type": "execute_result",
     "data": {
      "text/plain": [
       "Atom{/2a3d:4745/A:1/MET:1/N:1}"
      ]
     },
     "metadata": {},
     "execution_count": 38
    }
   ],
   "metadata": {}
  },
  {
   "cell_type": "code",
   "execution_count": 39,
   "source": [
    "pose.graph[1, 1, \"CA\"].children"
   ],
   "outputs": [
    {
     "output_type": "execute_result",
     "data": {
      "text/plain": [
       "3-element Vector{Atom}:\n",
       " Atom{/2a3d:4745/A:1/MET:1/C:3}\n",
       " Atom{/2a3d:4745/A:1/MET:1/CB:5}\n",
       " Atom{/2a3d:4745/A:1/MET:1/HA:9}"
      ]
     },
     "metadata": {},
     "execution_count": 39
    }
   ],
   "metadata": {}
  },
  {
   "cell_type": "markdown",
   "source": [
    "Note that parenhood relationships do not necessarilly follow the physical bonds of a molecular structure. In fact, Atom instances have a `:bond` field that specifies the bonds that include that atom, while only have a single parent Atom."
   ],
   "metadata": {}
  },
  {
   "cell_type": "code",
   "execution_count": 40,
   "source": [
    "pose.graph[1, 1, \"CA\"].bonds"
   ],
   "outputs": [
    {
     "output_type": "execute_result",
     "data": {
      "text/plain": [
       "4-element Vector{Atom}:\n",
       " Atom{/2a3d:4745/A:1/MET:1/N:1}\n",
       " Atom{/2a3d:4745/A:1/MET:1/C:3}\n",
       " Atom{/2a3d:4745/A:1/MET:1/CB:5}\n",
       " Atom{/2a3d:4745/A:1/MET:1/HA:9}"
      ]
     },
     "metadata": {},
     "execution_count": 40
    }
   ],
   "metadata": {}
  },
  {
   "cell_type": "markdown",
   "source": [
    "A directed graph allows us to traverse the totallity of the molecular structure until a break or cut is encountered. It is also useful when applying internal coordinates, which will be discussed further ahead. Note that, when loading a Pose from a file, most parenthood relationships are infered, and may not be correct. Always verify the integrity of your Graph. Some especialized `load` functions can be found in other ProtoSyn modules, such as the Peptides module, allowing the program to correctly assign parenthood relationships."
   ],
   "metadata": {}
  },
  {
   "cell_type": "markdown",
   "source": [
    "## Exploring the State structure\n",
    "\n",
    "As state before, a State contains the information regarding the 3D position of an Atom particle. In ProtoSyn, this is performed using two complementary coordinate systems: the internal coordinates and the cartesian coordinates. The cartesian coordinates `:t` are a set of 3 dimensions: the X, Y and Z position; while the internal coordinates position the Atom based on the relational dimension: the distance, angle and dihedral angle to the previously placed Atoms. In other words, while the cartesian coordinates are independent from the rest of the structure, the internal coordinates place each atom in relationship to the previous atoms (called the `:ascendents`). As such, an atom is placed at a distance `:b` from its `parent`; at an angle `:θ` from its `:parent` and its `parent.parent`; and at a dihedral angle `ϕ` from its `parent`, `parent.parent` and `parent.parent.parent`. This is one of the main reasons for using a directed Graph.\n",
    "\n",
    "Each of these coordinate systems information is stored individually for each Atom, in an AtomState structure."
   ],
   "metadata": {}
  },
  {
   "cell_type": "code",
   "execution_count": 41,
   "source": [
    "pose.state.items[4]"
   ],
   "outputs": [
    {
     "output_type": "execute_result",
     "data": {
      "text/plain": [
       "AtomState{Float64}:\n",
       " Index: 1\n",
       " T: [55.881, 8.038, 16.840]\n",
       " b: 58.914 Å | θ:  2.819 rad ( 161.53°) | ϕ:  1.125 rad (  64.48°) | Δϕ:  0.000 rad (   0.00°)\n",
       " Changed: false\n"
      ]
     },
     "metadata": {},
     "execution_count": 41
    }
   ],
   "metadata": {}
  },
  {
   "cell_type": "markdown",
   "source": [
    "Following the template set with the Graph, the State also has a list of `:items`. A shorter (and more reccomended) syntax for indexing the AtomStates is as follows:"
   ],
   "metadata": {}
  },
  {
   "cell_type": "code",
   "execution_count": 42,
   "source": [
    "pose.state[1]"
   ],
   "outputs": [
    {
     "output_type": "execute_result",
     "data": {
      "text/plain": [
       "AtomState{Float64}:\n",
       " Index: 1\n",
       " T: [55.881, 8.038, 16.840]\n",
       " b: 58.914 Å | θ:  2.819 rad ( 161.53°) | ϕ:  1.125 rad (  64.48°) | Δϕ:  0.000 rad (   0.00°)\n",
       " Changed: false\n"
      ]
     },
     "metadata": {},
     "execution_count": 42
    }
   ],
   "metadata": {}
  },
  {
   "cell_type": "markdown",
   "source": [
    "Note that, when indexing via the `:items` list, there are 3 pseudo atoms at positions 1, 2 and 3, but are ignored when using the shorter syntax. These are called the Root atoms. In order to place the first Atom, using the internal coordinates, that atom must have a `parent`, a `parent.parent` and a `parent.parent.parent`. For this reason, all Pose structures have a root. In fact, this can be queried for using the `ProtoSyn.root` method."
   ],
   "metadata": {}
  },
  {
   "cell_type": "code",
   "execution_count": 43,
   "source": [
    "r = ProtoSyn.root(pose.graph)"
   ],
   "outputs": [
    {
     "output_type": "execute_result",
     "data": {
      "text/plain": [
       "Atom{/ROOT:7385/OO:0}"
      ]
     },
     "metadata": {},
     "execution_count": 43
    }
   ],
   "metadata": {}
  },
  {
   "cell_type": "code",
   "execution_count": 44,
   "source": [
    "r.parent"
   ],
   "outputs": [
    {
     "output_type": "execute_result",
     "data": {
      "text/plain": [
       "Atom{/ROOT:7385/OX:-1}"
      ]
     },
     "metadata": {},
     "execution_count": 44
    }
   ],
   "metadata": {}
  },
  {
   "cell_type": "code",
   "execution_count": 45,
   "source": [
    "r.parent.parent"
   ],
   "outputs": [
    {
     "output_type": "execute_result",
     "data": {
      "text/plain": [
       "Atom{/ROOT:7385/OY:-2}"
      ]
     },
     "metadata": {},
     "execution_count": 45
    }
   ],
   "metadata": {}
  },
  {
   "cell_type": "markdown",
   "source": [
    "A third option of indexing an AtomState structure is by querying with an actual Atom instance. This can be useful to make sure we get the right atom."
   ],
   "metadata": {}
  },
  {
   "cell_type": "code",
   "execution_count": 46,
   "source": [
    "atom = pose.graph[1, 1, \"CA\"]\n",
    "pose.state[atom]"
   ],
   "outputs": [
    {
     "output_type": "execute_result",
     "data": {
      "text/plain": [
       "AtomState{Float64}:\n",
       " Index: 2\n",
       " T: [56.203, 9.492, 16.942]\n",
       " b: 1.493 Å | θ:  1.936 rad ( 110.92°) | ϕ: -1.142 rad ( -65.45°) | Δϕ:  0.000 rad (   0.00°)\n",
       " Changed: false\n"
      ]
     },
     "metadata": {},
     "execution_count": 46
    }
   ],
   "metadata": {}
  },
  {
   "cell_type": "markdown",
   "source": [
    "Besides the list of AtomState, a State also contains a StateMatrix. This is simply a matrix representation of all cartesian coordinates, which is useful in certain matrix operations, such as rotating a large block of Atom instances around a virtual axis, for example. Note that updating a StateMatrix column also updates the complementary AtomState, and viceversa."
   ],
   "metadata": {}
  },
  {
   "cell_type": "code",
   "execution_count": 47,
   "source": [
    "pose.state.x"
   ],
   "outputs": [
    {
     "output_type": "execute_result",
     "data": {
      "text/plain": [
       "StateMatrix{Float64}:\n",
       " Parent set: true\n",
       "3×1140 Matrix{Float64}:\n",
       " 55.881  56.203  56.556  56.095  …   51.228   49.869   50.721   49.18\n",
       "  8.038   9.492  10.053   9.567      -2.694   -1.716   -5.225   -5.708\n",
       " 16.84   16.942  15.56   14.547     -15.449  -16.001  -15.756  -15.232"
      ]
     },
     "metadata": {},
     "execution_count": 47
    }
   ],
   "metadata": {}
  },
  {
   "cell_type": "markdown",
   "source": [
    "Finally, the last two points of notice are the energy `:e` field and the forces `:f` field. These are included in the State structure and can be set by calculating the energy and forces using an EnergyFunction, and will be explored in another example."
   ],
   "metadata": {}
  },
  {
   "cell_type": "code",
   "execution_count": 48,
   "source": [
    "pose.state.e"
   ],
   "outputs": [
    {
     "output_type": "execute_result",
     "data": {
      "text/plain": [
       "Dict{Symbol, Float64} with 1 entry:\n",
       "  :Total => Inf"
      ]
     },
     "metadata": {},
     "execution_count": 48
    }
   ],
   "metadata": {}
  },
  {
   "cell_type": "code",
   "execution_count": 49,
   "source": [
    "pose.state.f"
   ],
   "outputs": [
    {
     "output_type": "execute_result",
     "data": {
      "text/plain": [
       "3×1140 Matrix{Float64}:\n",
       " 0.0  0.0  0.0  0.0  0.0  0.0  0.0  0.0  …  0.0  0.0  0.0  0.0  0.0  0.0  0.0\n",
       " 0.0  0.0  0.0  0.0  0.0  0.0  0.0  0.0     0.0  0.0  0.0  0.0  0.0  0.0  0.0\n",
       " 0.0  0.0  0.0  0.0  0.0  0.0  0.0  0.0     0.0  0.0  0.0  0.0  0.0  0.0  0.0"
      ]
     },
     "metadata": {},
     "execution_count": 49
    }
   ],
   "metadata": {}
  },
  {
   "cell_type": "markdown",
   "source": [
    "An AtomState contains one last piece of important information, the `:Δϕ` field. This is a dihedral angle change applied to all `:children` Atom instances. This is useful when applying dihedral rotations. Instead of changing all `:ϕ` fields of all affected atoms (by the rotation), changing the `:Δϕ` field of the common `:parent` Atom automatically rotates all `:children` Atom instances."
   ],
   "metadata": {}
  },
  {
   "cell_type": "code",
   "execution_count": 50,
   "source": [
    "pose.state[pose.graph[1, 10, \"CA\"]].Δϕ += 0.10\n",
    "pose.state[pose.graph[1, 10, \"CA\"]]"
   ],
   "outputs": [
    {
     "output_type": "execute_result",
     "data": {
      "text/plain": [
       "AtomState{Float64}:\n",
       " Index: 147\n",
       " T: [56.124, 7.219, 1.744]\n",
       " b: 1.492 Å | θ:  2.095 rad ( 120.01°) | ϕ: -3.141 rad (-179.98°) | Δϕ:  0.100 rad (   5.73°)\n",
       " Changed: true\n"
      ]
     },
     "metadata": {},
     "execution_count": 50
    }
   ],
   "metadata": {}
  },
  {
   "cell_type": "markdown",
   "source": [
    "The internal and cartesian coordinates may often become \"out of sync\" with eachother: it can sometimes be useful to apply multiple internal coordinates changes (such as dihedral rotations) before calculating the actual cartesian coordinates. Therefore, a State contains two flags: `:i2c` (internal to cartesian) and `:c2i` (cartesian to internal), which can be set using the `ProtoSyn.request_i2c!` and `ProtoSyn.request_c2i!` methods, respectivelly."
   ],
   "metadata": {}
  },
  {
   "cell_type": "code",
   "execution_count": 51,
   "source": [
    "ProtoSyn.request_i2c!(pose.state)"
   ],
   "outputs": [
    {
     "output_type": "execute_result",
     "data": {
      "text/plain": [
       "State{Float64}:\n",
       " Size: 1140\n",
       " i2c: true | c2i: false\n",
       " Energy: Dict(:Total => Inf)\n"
      ]
     },
     "metadata": {},
     "execution_count": 51
    }
   ],
   "metadata": {}
  },
  {
   "cell_type": "markdown",
   "source": [
    "Note that a Pose cannot be synched with both the `:i2c` and `:c2i` flasg set to True, simulatenously. Once set up, a Pose can then be synched using the `ProtoSyn.sync!` method."
   ],
   "metadata": {}
  },
  {
   "cell_type": "code",
   "execution_count": 52,
   "source": [
    "ProtoSyn.sync!(pose)"
   ],
   "outputs": [
    {
     "output_type": "execute_result",
     "data": {
      "text/plain": [
       "Pose{Topology}(Topology{/2a3d:4745}, State{Float64}:\n",
       " Size: 1140\n",
       " i2c: false | c2i: false\n",
       " Energy: Dict(:Total => Inf)\n",
       ")"
      ]
     },
     "metadata": {},
     "execution_count": 52
    }
   ],
   "metadata": {}
  },
  {
   "cell_type": "markdown",
   "source": [
    "## Export a Pose as a PDB file\n",
    "\n",
    "In order to visualize the rotation we just introduced in this structure, using ProtoSyn, we can export the current synched Pose using the `ProtoSyn.write` method."
   ],
   "metadata": {}
  },
  {
   "cell_type": "code",
   "execution_count": 53,
   "source": [
    "ProtoSyn.write(pose, \"output/2a3d_mod.pdb\")"
   ],
   "outputs": [],
   "metadata": {}
  },
  {
   "cell_type": "markdown",
   "source": [
    "## Conclusion\n",
    "\n",
    "In this first example, we took a look inside the hood of the main ProtoSyn data structure: the Pose. This is sub-divided in the Graph and the State, which work together to correctly define a molecular structure and allow useful and common tasks in molecular simulations."
   ],
   "metadata": {}
  }
 ]
}