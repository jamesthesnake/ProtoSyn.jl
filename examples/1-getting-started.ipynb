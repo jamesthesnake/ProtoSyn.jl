{
 "metadata": {
  "language_info": {
   "codemirror_mode": {
    "name": "ipython",
    "version": 3
   },
   "file_extension": ".py",
   "mimetype": "text/x-python",
   "name": "python",
   "nbconvert_exporter": "python",
   "pygments_lexer": "ipython3",
   "version": 3
  },
  "orig_nbformat": 4,
  "kernelspec": {
   "name": "julia-1.5",
   "display_name": "Julia 1.5.2",
   "language": "julia"
  }
 },
 "nbformat": 4,
 "nbformat_minor": 2,
 "cells": [
  {
   "source": [
    "### Welcome to the ProtoSyn.jl examples\n",
    "\n",
    "# 1 - Getting Started\n",
    "\n",
    "In this first example script, we will explore how ProtoSyn.jl is organized and what are the available data structures. The example script is divided in 3 parts:\n",
    "+ Loading a PDB file as a Pose\n",
    "+ Exploring the Graph structure\n",
    "+ Exploring the State structure\n",
    "\n",
    "## Loading a PDB file as a Pose\n",
    "\n",
    "A Pose is the main data structure in ProtoSyn, and is subdivided in a directed Graph, and a State. We will explore these latter. In order to load a new Pose from a file, we can use the `load` function. "
   ],
   "cell_type": "markdown",
   "metadata": {}
  },
  {
   "cell_type": "code",
   "execution_count": 1,
   "metadata": {},
   "outputs": [
    {
     "output_type": "stream",
     "name": "stderr",
     "text": [
      "┌ Info: Precompiling ProtoSyn [c9758760-7c0d-11e9-0ffc-fb9355b7d293]\n",
      "└ @ Base loading.jl:1278\n",
      "[ Info: Loading required packages\n",
      "[ Info:  | Loading SIMD\n",
      "[ Info:  | Loading CUDA\n",
      "[ Info: Setting up variables\n",
      "[ Info: Current acceleration set to ProtoSyn.Acceleration(ProtoSyn.CUDA_2)\n",
      "[ Info: Loading Core\n",
      "[ Info: Loading Calculators\n",
      "[ Info:  | Loading TorchANI\n",
      "[ Info:  | Loading Restraint Models\n",
      "[ Info:  | Loading Energy Function\n",
      "[ Info: Loading Mutators\n",
      "[ Info: Loading Drivers\n",
      "[ Info: Loading Peptides\n",
      "[ Info: Loading Materials\n",
      "[ Info: Loading Sugars\n",
      "[ Info: Loading Common\n",
      "\n",
      ".      ____            _       ____              \n",
      "      |  _ \\ _ __ ___ | |_ ___/ ___| _   _ _ __  \n",
      "      | |_) | '__/ _ \\| __/ _ \\___ \\| | | | '_ \\ \n",
      "      |  __/| | | (_) | || (_) |__) | |_| | | | |\n",
      "      |_|   |_|  \\___/ \\__\\___/____/ \\__, |_| |_|\n",
      "                                       |_/       \n",
      "    \n",
      "      ---------------------------------------------\n",
      "\n",
      " Version      : 0.40\n",
      " License      : GNU-GPL-3\n",
      " Developed by : José Pereira (jose.manuel.pereira@ua.pt)\n",
      "                Sérgio Santos\n",
      "[ Info: ProtoSyn loaded successfully!\n"
     ]
    }
   ],
   "source": [
    "using ProtoSyn"
   ]
  },
  {
   "cell_type": "code",
   "execution_count": 2,
   "metadata": {},
   "outputs": [
    {
     "output_type": "stream",
     "name": "stderr",
     "text": [
      "┌ Info: Consider using Peptides.load when dealing with peptide chains.\n└ @ ProtoSyn /home/jpereira/project_c/ProtoSyn.jl/src/Core/Methods/io.jl:46\n"
     ]
    },
    {
     "output_type": "execute_result",
     "data": {
      "text/plain": [
       "Pose{Topology}(Topology{/2a3d:39093}, State{Float64}:\n",
       " Size: 1140\n",
       " i2c: false | c2i: false\n",
       " Energy: Dict(:Total => Inf)\n",
       ")"
      ]
     },
     "metadata": {},
     "execution_count": 2
    }
   ],
   "source": [
    "pose = ProtoSyn.load(\"data/2a3d.pdb\")"
   ]
  },
  {
   "cell_type": "code",
   "execution_count": null,
   "metadata": {},
   "outputs": [],
   "source": []
  }
 ]
}